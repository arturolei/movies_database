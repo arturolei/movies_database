{
 "cells": [
  {
   "cell_type": "markdown",
   "metadata": {},
   "source": [
    "# Movies Database\n",
    "\n",
    "## Historical Background:\n",
    "A long time ago in a middle school far, far away, I made a list of things I wanted to do before I die. On the list was \"watch a 1001 films\". In order to accomplish this goal, I had to have some estimate of how many films I watched in my lifetime. \n",
    "\n",
    "I created an Excel document. Years later, I uploaded the document onto [Google Drive](https://docs.google.com/spreadsheets/d/1G6k-tn3uin-l5QBNjMjf5YVLX1rasfbKGgNOtZIx8Lc/edit?usp=sharing). \n",
    "\n",
    "I already converted it to csv. \n",
    "\n",
    "By the way, I hit the 1001st film milestone around 2013-2014. "
   ]
  },
  {
   "cell_type": "code",
   "execution_count": 33,
   "metadata": {},
   "outputs": [
    {
     "data": {
      "text/plain": [
       "'\\n### Historical Footnote/Reminder on how to use (next):\\nprint(\"Here is the data as a list with the first two entries being the headers that I do not need: \\n\")\\nfor row in raw_data_withheaders:\\n    print(row, \\'\\n\\')\\nraw_data_ready = raw_data_withheaders[3:]\\n\\nprint(\"Here is the data as a list without the first two entries being the headers that I do not need: \\n\")\\nfor row in raw_data_ready:\\n    print(row, \\'\\n\\')\\n\\n\\nThe issues thus how to put the data in raw_data_ready into sql db. \\nI had to split the reading the csv file\\nand turning the csv file into python code which could be used to build db because\\nI could not figure how to skip two rows in the fastest way possible. \\n\\nThe next steps would be for me to take the raw data (flms, info, and the put that into sql database)\\n\\nPROBLEM: the primary ID or index value in the csv file is not the first value.\\nSOLUTION Apparently we can use next (file name)\\n\\nAnother solution, convert each row of the above raw data with header removed to a dictionary. \\nUse the dictionary keys in subsequent construction of the database. \\n- In other words, csv --> python list where each item is list--> turn each item in list to \\n  a dictionary.--> Use dictionary keys to re-arrange order in database.\\n  \\nFor now, I\\'m just going to create a sql db using the raw_data_ready (data with headers removed)\\n'"
      ]
     },
     "execution_count": 33,
     "metadata": {},
     "output_type": "execute_result"
    }
   ],
   "source": [
    "#I created a .csv file, film_check_list_upto2015.csv\n",
    "\n",
    "'''\n",
    "As a simple training exercise, I will be using the csv file to \n",
    "populate a database using data from the aforementioned .csv file.\n",
    "\n",
    "'''\n",
    "import sqlite3\n",
    "import csv\n",
    "\n",
    "\n",
    "with open ('film_check_list_upto2015.csv',newline='') as csvfile:\n",
    "    reader_thingy = csv.reader(csvfile)\n",
    "    next(reader_thingy) #skip the header rows\n",
    "    next(reader_thingy)\n",
    "    next(reader_thingy)\n",
    "    raw_data_list= [row for row in reader_thingy]\n",
    "\n",
    "\n",
    "'''       \n",
    "print(\"Here is the data as a list\")\n",
    "for row in raw_data_list:\n",
    "    print(row, '\\n')\n",
    "'''\n",
    "\n",
    "#Resizing the data to make it work as the original data is formated badly. The first three bits are useful.\n",
    "#The last three aren't or useless/repetitive. \n",
    "\n",
    "resized_data = [[row[0], row[1], row[2]] for row in raw_data_list]\n",
    "#print(resized_data)\n",
    "\n",
    "\n",
    "with sqlite3.connect('sqlite3movies.db') as connection:\n",
    "    curs = connection.cursor()\n",
    "    \n",
    "    #NB: The DROP table is necessary if I run this program more than once. \n",
    "    curs.executescript(\"\"\"\n",
    "         DROP TABLE IF EXISTS filmlist;\n",
    "         CREATE TABLE filmlist(FilmTitle TEXT, Date TEXT, Notes TXT);\"\"\")\n",
    "    curs.executemany('INSERT into filmlist VALUES(?,?,?)', resized_data)    \n",
    "    \n",
    "    \n",
    "    \n",
    "'''\n",
    "### Historical Footnote/Reminder on how to use (next):\n",
    "print(\"Here is the data as a list with the first two entries being the headers that I do not need: \\n\")\n",
    "for row in raw_data_withheaders:\n",
    "    print(row, '\\n')\n",
    "raw_data_ready = raw_data_withheaders[3:]\n",
    "\n",
    "print(\"Here is the data as a list without the first two entries being the headers that I do not need: \\n\")\n",
    "for row in raw_data_ready:\n",
    "    print(row, '\\n')\n",
    "\n",
    "\n",
    "The issues thus how to put the data in raw_data_ready into sql db. \n",
    "I had to split the reading the csv file\n",
    "and turning the csv file into python code which could be used to build db because\n",
    "I could not figure how to skip two rows in the fastest way possible. \n",
    "\n",
    "The next steps would be for me to take the raw data (flms, info, and the put that into sql database)\n",
    "\n",
    "PROBLEM: the primary ID or index value in the csv file is not the first value.\n",
    "SOLUTION Apparently we can use next (file name)\n",
    "\n",
    "Another solution, convert each row of the above raw data with header removed to a dictionary. \n",
    "Use the dictionary keys in subsequent construction of the database. \n",
    "- In other words, csv --> python list where each item is list--> turn each item in list to \n",
    "  a dictionary.--> Use dictionary keys to re-arrange order in database.\n",
    "  \n",
    "For now, I'm just going to create a sql db using the raw_data_ready (data with headers removed)\n",
    "'''\n",
    "\n",
    "\n",
    "\n"
   ]
  },
  {
   "cell_type": "code",
   "execution_count": null,
   "metadata": {
    "collapsed": true
   },
   "outputs": [],
   "source": []
  },
  {
   "cell_type": "code",
   "execution_count": null,
   "metadata": {
    "collapsed": true
   },
   "outputs": [],
   "source": []
  }
 ],
 "metadata": {
  "kernelspec": {
   "display_name": "Python 3",
   "language": "python",
   "name": "python3"
  },
  "language_info": {
   "codemirror_mode": {
    "name": "ipython",
    "version": 3
   },
   "file_extension": ".py",
   "mimetype": "text/x-python",
   "name": "python",
   "nbconvert_exporter": "python",
   "pygments_lexer": "ipython3",
   "version": "3.6.0"
  }
 },
 "nbformat": 4,
 "nbformat_minor": 2
}
